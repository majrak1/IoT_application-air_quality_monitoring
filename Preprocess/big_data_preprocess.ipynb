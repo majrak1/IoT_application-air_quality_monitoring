{
 "cells": [
  {
   "cell_type": "markdown",
   "id": "95d99a7a-a005-4946-b32e-2f981b38f1c8",
   "metadata": {},
   "source": [
    "# **IoT Application - Preprocessing**\n",
    "\n",
    "In  this notebook we will develop a script to import a dataset about Air Quality. \n",
    "\n",
    "We will perform data cleaning and preprocessing for the next steps of our project. \n",
    "\n",
    "\n"
   ]
  },
  {
   "cell_type": "code",
   "execution_count": 1,
   "id": "61c65a2c-4106-42a5-95b8-b3079c62b434",
   "metadata": {},
   "outputs": [],
   "source": [
    "# Data processing and visalization\n",
    "import pandas as pd\n",
    "import numpy as np\n",
    "import matplotlib.pyplot as plt\n",
    "import seaborn as sns\n",
    "plt.style.use('ggplot')\n",
    "%matplotlib inline"
   ]
  },
  {
   "cell_type": "markdown",
   "id": "d64b8e3a-3a8c-495d-afb4-24819995fba8",
   "metadata": {},
   "source": [
    "# Exploratory Data Analysis\n",
    "We will start by reading the data\n"
   ]
  },
  {
   "cell_type": "code",
   "execution_count": 2,
   "id": "9ccd4048-3675-4c7d-8a52-6e56b48af6a5",
   "metadata": {},
   "outputs": [],
   "source": [
    "air_df = pd.read_csv('../datasets/AirQuality.csv',sep=';') \n",
    "# Dataset separates its columns using ; hence the argument sep=';'"
   ]
  },
  {
   "cell_type": "markdown",
   "id": "e949e443-337c-4d67-b970-ed9a8f29f877",
   "metadata": {},
   "source": [
    "We will our EDA process by following those steps :\n",
    "- Print the keys, the first few elements, the data frame info and its summary statistics.\n",
    "- Verify if any values are NaN\n",
    "- Plot the distribution of the target\n",
    "- Investigate the correlations\n",
    "- Investigate the trends\n"
   ]
  },
  {
   "cell_type": "markdown",
   "id": "7baec277-58e0-4137-8b58-7f6939a47b23",
   "metadata": {},
   "source": [
    "Let's run some general functions on the dataframe to understand what we are working on"
   ]
  },
  {
   "cell_type": "code",
   "execution_count": 3,
   "id": "c398cc2b-7edb-4b71-9a5c-d719ef218f4c",
   "metadata": {},
   "outputs": [
    {
     "data": {
      "text/plain": [
       "Index(['Date', 'Time', 'CO(GT)', 'PT08.S1(CO)', 'NMHC(GT)', 'C6H6(GT)',\n",
       "       'PT08.S2(NMHC)', 'NOx(GT)', 'PT08.S3(NOx)', 'NO2(GT)', 'PT08.S4(NO2)',\n",
       "       'PT08.S5(O3)', 'T', 'RH', 'AH', 'Unnamed: 15', 'Unnamed: 16'],\n",
       "      dtype='object')"
      ]
     },
     "execution_count": 3,
     "metadata": {},
     "output_type": "execute_result"
    }
   ],
   "source": [
    "air_df.keys()"
   ]
  },
  {
   "cell_type": "code",
   "execution_count": 4,
   "id": "1fb61a71-1800-4df8-aa70-a7c650363f57",
   "metadata": {},
   "outputs": [
    {
     "data": {
      "text/html": [
       "<div>\n",
       "<style scoped>\n",
       "    .dataframe tbody tr th:only-of-type {\n",
       "        vertical-align: middle;\n",
       "    }\n",
       "\n",
       "    .dataframe tbody tr th {\n",
       "        vertical-align: top;\n",
       "    }\n",
       "\n",
       "    .dataframe thead th {\n",
       "        text-align: right;\n",
       "    }\n",
       "</style>\n",
       "<table border=\"1\" class=\"dataframe\">\n",
       "  <thead>\n",
       "    <tr style=\"text-align: right;\">\n",
       "      <th></th>\n",
       "      <th>Date</th>\n",
       "      <th>Time</th>\n",
       "      <th>CO(GT)</th>\n",
       "      <th>PT08.S1(CO)</th>\n",
       "      <th>NMHC(GT)</th>\n",
       "      <th>C6H6(GT)</th>\n",
       "      <th>PT08.S2(NMHC)</th>\n",
       "      <th>NOx(GT)</th>\n",
       "      <th>PT08.S3(NOx)</th>\n",
       "      <th>NO2(GT)</th>\n",
       "      <th>PT08.S4(NO2)</th>\n",
       "      <th>PT08.S5(O3)</th>\n",
       "      <th>T</th>\n",
       "      <th>RH</th>\n",
       "      <th>AH</th>\n",
       "      <th>Unnamed: 15</th>\n",
       "      <th>Unnamed: 16</th>\n",
       "    </tr>\n",
       "  </thead>\n",
       "  <tbody>\n",
       "    <tr>\n",
       "      <th>0</th>\n",
       "      <td>10/03/2004</td>\n",
       "      <td>18.00.00</td>\n",
       "      <td>2,6</td>\n",
       "      <td>1360.0</td>\n",
       "      <td>150.0</td>\n",
       "      <td>11,9</td>\n",
       "      <td>1046.0</td>\n",
       "      <td>166.0</td>\n",
       "      <td>1056.0</td>\n",
       "      <td>113.0</td>\n",
       "      <td>1692.0</td>\n",
       "      <td>1268.0</td>\n",
       "      <td>13,6</td>\n",
       "      <td>48,9</td>\n",
       "      <td>0,7578</td>\n",
       "      <td>NaN</td>\n",
       "      <td>NaN</td>\n",
       "    </tr>\n",
       "    <tr>\n",
       "      <th>1</th>\n",
       "      <td>10/03/2004</td>\n",
       "      <td>19.00.00</td>\n",
       "      <td>2</td>\n",
       "      <td>1292.0</td>\n",
       "      <td>112.0</td>\n",
       "      <td>9,4</td>\n",
       "      <td>955.0</td>\n",
       "      <td>103.0</td>\n",
       "      <td>1174.0</td>\n",
       "      <td>92.0</td>\n",
       "      <td>1559.0</td>\n",
       "      <td>972.0</td>\n",
       "      <td>13,3</td>\n",
       "      <td>47,7</td>\n",
       "      <td>0,7255</td>\n",
       "      <td>NaN</td>\n",
       "      <td>NaN</td>\n",
       "    </tr>\n",
       "    <tr>\n",
       "      <th>2</th>\n",
       "      <td>10/03/2004</td>\n",
       "      <td>20.00.00</td>\n",
       "      <td>2,2</td>\n",
       "      <td>1402.0</td>\n",
       "      <td>88.0</td>\n",
       "      <td>9,0</td>\n",
       "      <td>939.0</td>\n",
       "      <td>131.0</td>\n",
       "      <td>1140.0</td>\n",
       "      <td>114.0</td>\n",
       "      <td>1555.0</td>\n",
       "      <td>1074.0</td>\n",
       "      <td>11,9</td>\n",
       "      <td>54,0</td>\n",
       "      <td>0,7502</td>\n",
       "      <td>NaN</td>\n",
       "      <td>NaN</td>\n",
       "    </tr>\n",
       "    <tr>\n",
       "      <th>3</th>\n",
       "      <td>10/03/2004</td>\n",
       "      <td>21.00.00</td>\n",
       "      <td>2,2</td>\n",
       "      <td>1376.0</td>\n",
       "      <td>80.0</td>\n",
       "      <td>9,2</td>\n",
       "      <td>948.0</td>\n",
       "      <td>172.0</td>\n",
       "      <td>1092.0</td>\n",
       "      <td>122.0</td>\n",
       "      <td>1584.0</td>\n",
       "      <td>1203.0</td>\n",
       "      <td>11,0</td>\n",
       "      <td>60,0</td>\n",
       "      <td>0,7867</td>\n",
       "      <td>NaN</td>\n",
       "      <td>NaN</td>\n",
       "    </tr>\n",
       "    <tr>\n",
       "      <th>4</th>\n",
       "      <td>10/03/2004</td>\n",
       "      <td>22.00.00</td>\n",
       "      <td>1,6</td>\n",
       "      <td>1272.0</td>\n",
       "      <td>51.0</td>\n",
       "      <td>6,5</td>\n",
       "      <td>836.0</td>\n",
       "      <td>131.0</td>\n",
       "      <td>1205.0</td>\n",
       "      <td>116.0</td>\n",
       "      <td>1490.0</td>\n",
       "      <td>1110.0</td>\n",
       "      <td>11,2</td>\n",
       "      <td>59,6</td>\n",
       "      <td>0,7888</td>\n",
       "      <td>NaN</td>\n",
       "      <td>NaN</td>\n",
       "    </tr>\n",
       "  </tbody>\n",
       "</table>\n",
       "</div>"
      ],
      "text/plain": [
       "         Date      Time CO(GT)  PT08.S1(CO)  NMHC(GT) C6H6(GT)  PT08.S2(NMHC)  \\\n",
       "0  10/03/2004  18.00.00    2,6       1360.0     150.0     11,9         1046.0   \n",
       "1  10/03/2004  19.00.00      2       1292.0     112.0      9,4          955.0   \n",
       "2  10/03/2004  20.00.00    2,2       1402.0      88.0      9,0          939.0   \n",
       "3  10/03/2004  21.00.00    2,2       1376.0      80.0      9,2          948.0   \n",
       "4  10/03/2004  22.00.00    1,6       1272.0      51.0      6,5          836.0   \n",
       "\n",
       "   NOx(GT)  PT08.S3(NOx)  NO2(GT)  PT08.S4(NO2)  PT08.S5(O3)     T    RH  \\\n",
       "0    166.0        1056.0    113.0        1692.0       1268.0  13,6  48,9   \n",
       "1    103.0        1174.0     92.0        1559.0        972.0  13,3  47,7   \n",
       "2    131.0        1140.0    114.0        1555.0       1074.0  11,9  54,0   \n",
       "3    172.0        1092.0    122.0        1584.0       1203.0  11,0  60,0   \n",
       "4    131.0        1205.0    116.0        1490.0       1110.0  11,2  59,6   \n",
       "\n",
       "       AH  Unnamed: 15  Unnamed: 16  \n",
       "0  0,7578          NaN          NaN  \n",
       "1  0,7255          NaN          NaN  \n",
       "2  0,7502          NaN          NaN  \n",
       "3  0,7867          NaN          NaN  \n",
       "4  0,7888          NaN          NaN  "
      ]
     },
     "execution_count": 4,
     "metadata": {},
     "output_type": "execute_result"
    }
   ],
   "source": [
    "air_df.head()"
   ]
  },
  {
   "cell_type": "code",
   "execution_count": 5,
   "id": "7fc446ed-0308-490e-aabd-0149dd0d9a12",
   "metadata": {},
   "outputs": [
    {
     "name": "stdout",
     "output_type": "stream",
     "text": [
      "<class 'pandas.core.frame.DataFrame'>\n",
      "RangeIndex: 9471 entries, 0 to 9470\n",
      "Data columns (total 17 columns):\n",
      " #   Column         Non-Null Count  Dtype  \n",
      "---  ------         --------------  -----  \n",
      " 0   Date           9357 non-null   object \n",
      " 1   Time           9357 non-null   object \n",
      " 2   CO(GT)         9357 non-null   object \n",
      " 3   PT08.S1(CO)    9357 non-null   float64\n",
      " 4   NMHC(GT)       9357 non-null   float64\n",
      " 5   C6H6(GT)       9357 non-null   object \n",
      " 6   PT08.S2(NMHC)  9357 non-null   float64\n",
      " 7   NOx(GT)        9357 non-null   float64\n",
      " 8   PT08.S3(NOx)   9357 non-null   float64\n",
      " 9   NO2(GT)        9357 non-null   float64\n",
      " 10  PT08.S4(NO2)   9357 non-null   float64\n",
      " 11  PT08.S5(O3)    9357 non-null   float64\n",
      " 12  T              9357 non-null   object \n",
      " 13  RH             9357 non-null   object \n",
      " 14  AH             9357 non-null   object \n",
      " 15  Unnamed: 15    0 non-null      float64\n",
      " 16  Unnamed: 16    0 non-null      float64\n",
      "dtypes: float64(10), object(7)\n",
      "memory usage: 1.2+ MB\n"
     ]
    }
   ],
   "source": [
    "air_df.info()"
   ]
  },
  {
   "cell_type": "code",
   "execution_count": 6,
   "id": "19c33741-d20c-497d-8392-4bc106ef6dc5",
   "metadata": {},
   "outputs": [],
   "source": [
    "# We can drop columns 15 and 16 as they seem to not have any data meaning\n",
    "air_df.drop(['Unnamed: 15','Unnamed: 16'],axis=1,inplace=True)\n",
    "\n",
    "\n",
    "# Some of the columns show up as 'objects' because the original dataframe uses commas instead of points to write decimal numbers.\n",
    "# Let's resolve both of those issues \n",
    "\n",
    "#Replacing \",\" with \".\"\n",
    "air_df.iloc[:,2] = air_df.iloc[:,2].replace(',','.',regex=True)\n",
    "air_df.iloc[:,5] = air_df.iloc[:,5].replace(',','.',regex=True)\n",
    "air_df.iloc[:,12] = air_df.iloc[:,12].replace(',','.',regex=True)\n",
    "air_df.iloc[:,13] = air_df.iloc[:,13].replace(',','.',regex=True)\n",
    "air_df.iloc[:,14] = air_df.iloc[:,14].replace(',','.',regex=True)\n",
    "\n",
    "#Changing dtypes to float64\n",
    "air_df = air_df.astype({'CO(GT)':'float64',\n",
    "             'C6H6(GT)':'float64',\n",
    "             'T':'float64',\n",
    "             'RH':'float64',\n",
    "             'AH':'float64'})\n"
   ]
  },
  {
   "cell_type": "code",
   "execution_count": 7,
   "id": "b3835f94-a321-47e0-b407-0f8192f91014",
   "metadata": {},
   "outputs": [
    {
     "data": {
      "text/plain": [
       "(9471, 15)"
      ]
     },
     "execution_count": 7,
     "metadata": {},
     "output_type": "execute_result"
    }
   ],
   "source": [
    "air_df.shape"
   ]
  },
  {
   "cell_type": "code",
   "execution_count": 8,
   "id": "51d591c3-b157-4c3f-9a93-e037a0d8e97b",
   "metadata": {},
   "outputs": [
    {
     "data": {
      "text/plain": [
       "Date             114\n",
       "Time             114\n",
       "CO(GT)           114\n",
       "PT08.S1(CO)      114\n",
       "NMHC(GT)         114\n",
       "C6H6(GT)         114\n",
       "PT08.S2(NMHC)    114\n",
       "NOx(GT)          114\n",
       "PT08.S3(NOx)     114\n",
       "NO2(GT)          114\n",
       "PT08.S4(NO2)     114\n",
       "PT08.S5(O3)      114\n",
       "T                114\n",
       "RH               114\n",
       "AH               114\n",
       "dtype: int64"
      ]
     },
     "execution_count": 8,
     "metadata": {},
     "output_type": "execute_result"
    }
   ],
   "source": [
    "# Let's see the number of rows with missing data\n",
    "air_df.isnull().sum()"
   ]
  },
  {
   "cell_type": "code",
   "execution_count": 9,
   "id": "d79b41e2-79e2-4985-b1fc-887312b425e8",
   "metadata": {},
   "outputs": [
    {
     "data": {
      "text/plain": [
       "np.int64(113)"
      ]
     },
     "execution_count": 9,
     "metadata": {},
     "output_type": "execute_result"
    }
   ],
   "source": [
    "air_df.duplicated().sum()"
   ]
  },
  {
   "cell_type": "code",
   "execution_count": 10,
   "id": "28c4cb9e-fae9-46da-95a3-493e475a6d7c",
   "metadata": {},
   "outputs": [],
   "source": [
    "# 114 rows out of 9471 entries isn't going to impact our analysis much, so we will just get rid of those rows and the duplicated rows.\n",
    "air_df.dropna(inplace=True)\n",
    "air_df.drop_duplicates(inplace=True,ignore_index=True)"
   ]
  },
  {
   "cell_type": "code",
   "execution_count": 11,
   "id": "37929572-56e1-40e6-928d-a12bd812258b",
   "metadata": {},
   "outputs": [
    {
     "data": {
      "text/html": [
       "<div>\n",
       "<style scoped>\n",
       "    .dataframe tbody tr th:only-of-type {\n",
       "        vertical-align: middle;\n",
       "    }\n",
       "\n",
       "    .dataframe tbody tr th {\n",
       "        vertical-align: top;\n",
       "    }\n",
       "\n",
       "    .dataframe thead th {\n",
       "        text-align: right;\n",
       "    }\n",
       "</style>\n",
       "<table border=\"1\" class=\"dataframe\">\n",
       "  <thead>\n",
       "    <tr style=\"text-align: right;\">\n",
       "      <th></th>\n",
       "      <th>Date</th>\n",
       "      <th>Time</th>\n",
       "      <th>CO(GT)</th>\n",
       "      <th>PT08.S1(CO)</th>\n",
       "      <th>NMHC(GT)</th>\n",
       "      <th>C6H6(GT)</th>\n",
       "      <th>PT08.S2(NMHC)</th>\n",
       "      <th>NOx(GT)</th>\n",
       "      <th>PT08.S3(NOx)</th>\n",
       "      <th>NO2(GT)</th>\n",
       "      <th>PT08.S4(NO2)</th>\n",
       "      <th>PT08.S5(O3)</th>\n",
       "      <th>T</th>\n",
       "      <th>RH</th>\n",
       "      <th>AH</th>\n",
       "    </tr>\n",
       "  </thead>\n",
       "  <tbody>\n",
       "    <tr>\n",
       "      <th>0</th>\n",
       "      <td>10/03/2004</td>\n",
       "      <td>18.00.00</td>\n",
       "      <td>2.6</td>\n",
       "      <td>1360.0</td>\n",
       "      <td>150.0</td>\n",
       "      <td>11.9</td>\n",
       "      <td>1046.0</td>\n",
       "      <td>166.0</td>\n",
       "      <td>1056.0</td>\n",
       "      <td>113.0</td>\n",
       "      <td>1692.0</td>\n",
       "      <td>1268.0</td>\n",
       "      <td>13.6</td>\n",
       "      <td>48.9</td>\n",
       "      <td>0.7578</td>\n",
       "    </tr>\n",
       "    <tr>\n",
       "      <th>1</th>\n",
       "      <td>10/03/2004</td>\n",
       "      <td>19.00.00</td>\n",
       "      <td>2.0</td>\n",
       "      <td>1292.0</td>\n",
       "      <td>112.0</td>\n",
       "      <td>9.4</td>\n",
       "      <td>955.0</td>\n",
       "      <td>103.0</td>\n",
       "      <td>1174.0</td>\n",
       "      <td>92.0</td>\n",
       "      <td>1559.0</td>\n",
       "      <td>972.0</td>\n",
       "      <td>13.3</td>\n",
       "      <td>47.7</td>\n",
       "      <td>0.7255</td>\n",
       "    </tr>\n",
       "    <tr>\n",
       "      <th>2</th>\n",
       "      <td>10/03/2004</td>\n",
       "      <td>20.00.00</td>\n",
       "      <td>2.2</td>\n",
       "      <td>1402.0</td>\n",
       "      <td>88.0</td>\n",
       "      <td>9.0</td>\n",
       "      <td>939.0</td>\n",
       "      <td>131.0</td>\n",
       "      <td>1140.0</td>\n",
       "      <td>114.0</td>\n",
       "      <td>1555.0</td>\n",
       "      <td>1074.0</td>\n",
       "      <td>11.9</td>\n",
       "      <td>54.0</td>\n",
       "      <td>0.7502</td>\n",
       "    </tr>\n",
       "    <tr>\n",
       "      <th>3</th>\n",
       "      <td>10/03/2004</td>\n",
       "      <td>21.00.00</td>\n",
       "      <td>2.2</td>\n",
       "      <td>1376.0</td>\n",
       "      <td>80.0</td>\n",
       "      <td>9.2</td>\n",
       "      <td>948.0</td>\n",
       "      <td>172.0</td>\n",
       "      <td>1092.0</td>\n",
       "      <td>122.0</td>\n",
       "      <td>1584.0</td>\n",
       "      <td>1203.0</td>\n",
       "      <td>11.0</td>\n",
       "      <td>60.0</td>\n",
       "      <td>0.7867</td>\n",
       "    </tr>\n",
       "    <tr>\n",
       "      <th>4</th>\n",
       "      <td>10/03/2004</td>\n",
       "      <td>22.00.00</td>\n",
       "      <td>1.6</td>\n",
       "      <td>1272.0</td>\n",
       "      <td>51.0</td>\n",
       "      <td>6.5</td>\n",
       "      <td>836.0</td>\n",
       "      <td>131.0</td>\n",
       "      <td>1205.0</td>\n",
       "      <td>116.0</td>\n",
       "      <td>1490.0</td>\n",
       "      <td>1110.0</td>\n",
       "      <td>11.2</td>\n",
       "      <td>59.6</td>\n",
       "      <td>0.7888</td>\n",
       "    </tr>\n",
       "  </tbody>\n",
       "</table>\n",
       "</div>"
      ],
      "text/plain": [
       "         Date      Time  CO(GT)  PT08.S1(CO)  NMHC(GT)  C6H6(GT)  \\\n",
       "0  10/03/2004  18.00.00     2.6       1360.0     150.0      11.9   \n",
       "1  10/03/2004  19.00.00     2.0       1292.0     112.0       9.4   \n",
       "2  10/03/2004  20.00.00     2.2       1402.0      88.0       9.0   \n",
       "3  10/03/2004  21.00.00     2.2       1376.0      80.0       9.2   \n",
       "4  10/03/2004  22.00.00     1.6       1272.0      51.0       6.5   \n",
       "\n",
       "   PT08.S2(NMHC)  NOx(GT)  PT08.S3(NOx)  NO2(GT)  PT08.S4(NO2)  PT08.S5(O3)  \\\n",
       "0         1046.0    166.0        1056.0    113.0        1692.0       1268.0   \n",
       "1          955.0    103.0        1174.0     92.0        1559.0        972.0   \n",
       "2          939.0    131.0        1140.0    114.0        1555.0       1074.0   \n",
       "3          948.0    172.0        1092.0    122.0        1584.0       1203.0   \n",
       "4          836.0    131.0        1205.0    116.0        1490.0       1110.0   \n",
       "\n",
       "      T    RH      AH  \n",
       "0  13.6  48.9  0.7578  \n",
       "1  13.3  47.7  0.7255  \n",
       "2  11.9  54.0  0.7502  \n",
       "3  11.0  60.0  0.7867  \n",
       "4  11.2  59.6  0.7888  "
      ]
     },
     "execution_count": 11,
     "metadata": {},
     "output_type": "execute_result"
    }
   ],
   "source": [
    "air_df.head()"
   ]
  },
  {
   "cell_type": "code",
   "execution_count": 12,
   "id": "1e384daf-66e5-40f4-88b0-c61db08c4f04",
   "metadata": {},
   "outputs": [
    {
     "name": "stdout",
     "output_type": "stream",
     "text": [
      "<class 'pandas.core.frame.DataFrame'>\n",
      "RangeIndex: 9357 entries, 0 to 9356\n",
      "Data columns (total 15 columns):\n",
      " #   Column         Non-Null Count  Dtype  \n",
      "---  ------         --------------  -----  \n",
      " 0   Date           9357 non-null   object \n",
      " 1   Time           9357 non-null   object \n",
      " 2   CO(GT)         9357 non-null   float64\n",
      " 3   PT08.S1(CO)    9357 non-null   float64\n",
      " 4   NMHC(GT)       9357 non-null   float64\n",
      " 5   C6H6(GT)       9357 non-null   float64\n",
      " 6   PT08.S2(NMHC)  9357 non-null   float64\n",
      " 7   NOx(GT)        9357 non-null   float64\n",
      " 8   PT08.S3(NOx)   9357 non-null   float64\n",
      " 9   NO2(GT)        9357 non-null   float64\n",
      " 10  PT08.S4(NO2)   9357 non-null   float64\n",
      " 11  PT08.S5(O3)    9357 non-null   float64\n",
      " 12  T              9357 non-null   float64\n",
      " 13  RH             9357 non-null   float64\n",
      " 14  AH             9357 non-null   float64\n",
      "dtypes: float64(13), object(2)\n",
      "memory usage: 1.1+ MB\n"
     ]
    }
   ],
   "source": [
    "air_df.info()"
   ]
  },
  {
   "cell_type": "code",
   "execution_count": 13,
   "id": "b31c9908-7421-4e59-9a36-5130376f7223",
   "metadata": {},
   "outputs": [],
   "source": [
    "def remove_outliers(data, column, lower_quantile=0.01, upper_quantile=0.99):\n",
    "    # Calculate the lower and upper quantile values\n",
    "    lower_bound = data[column].quantile(lower_quantile)\n",
    "    upper_bound = data[column].quantile(upper_quantile)\n",
    "    \n",
    "    # Filter the DataFrame to include only rows within the quantile bounds\n",
    "    filtered_data = data[(data[column] > lower_bound) & (data[column] < upper_bound)]\n",
    "    \n",
    "    return filtered_data\n",
    "\n",
    "# We drop the column NMHC(GT) because it contains a large number of -200 values\n",
    "no_nmhc_df = air_df.copy()\n",
    "no_nmhc_df.drop(['NMHC(GT)'],axis=1,inplace=True)\n",
    "no_nmhc_df = no_nmhc_df[~(no_nmhc_df == -200).any(axis=1)]\n",
    "\n",
    "air_df = remove_outliers(air_df, 'T', lower_quantile=0.10, upper_quantile=0.90)"
   ]
  },
  {
   "cell_type": "code",
   "execution_count": 14,
   "id": "86f7dddb-4519-4072-babf-6fc0d84ddd36",
   "metadata": {},
   "outputs": [],
   "source": [
    "# First line removes rows with -200, second replaces -200 with an empty string. Use either one depending on what is needed.\n",
    "# air_df = air_df[~(air_df == -200).any(axis=1)]\n",
    "air_df.replace(-200, '', inplace=True)"
   ]
  },
  {
   "cell_type": "code",
   "execution_count": 15,
   "id": "e3479b48-d3c5-4988-aef4-707b6f1a0e3c",
   "metadata": {},
   "outputs": [],
   "source": [
    "# rows=5\n",
    "# cols=3\n",
    "# fig, axes = plt.subplots(nrows=rows, ncols=cols,figsize=(15,15))\n",
    "# for i, feature in zip(range(len(air_df.keys())), air_df.keys()):\n",
    "#     r,c = i%rows, i%cols\n",
    "#     air_df.plot(x='Date', y=feature, kind='scatter', ax=axes[r,c], color='b')\n",
    "\n",
    "\n",
    "# # plt.tight_layout()\n",
    "# plt.show()\n",
    "\n",
    "\n",
    "# \n",
    "columns_to_replace = ['T', 'RH', 'AH', 'C6H6(GT)','CO(GT)']\n",
    "\n",
    "for column in columns_to_replace:\n",
    "    # Convert to string, replace '.', and then convert back to original type if needed\n",
    "    no_nmhc_df[column] = no_nmhc_df[column].astype(str).str.replace('.', ',', regex=False)\n",
    "    air_df[column] = air_df[column].astype(str).str.replace('.', ',', regex=False)\n",
    "    \n"
   ]
  },
  {
   "cell_type": "code",
   "execution_count": 16,
   "id": "0d547c49-e9e1-4818-8f54-f7a0492033c1",
   "metadata": {},
   "outputs": [],
   "source": [
    "air_df.to_csv('./output_data/air_df_wrong_format.csv',sep=';',index=False)\n",
    "no_nmhc_df.to_csv('./output_data/no_nmhc_df_wrong_format.csv',sep=';',index=False)"
   ]
  },
  {
   "cell_type": "code",
   "execution_count": 18,
   "id": "9041b32a-1715-4944-9ed0-cb0229ff8e5d",
   "metadata": {},
   "outputs": [
    {
     "name": "stderr",
     "output_type": "stream",
     "text": [
      "/var/folders/km/7bwvm63d7391crm7zdzvn4pc0000gn/T/ipykernel_19952/529321704.py:2: FutureWarning: DataFrame.applymap has been deprecated. Use DataFrame.map instead.\n",
      "  air_df[float_columns] = air_df[float_columns].applymap(lambda x: f\"{int(x)}\" if x.is_integer() else f\"{x}\")\n"
     ]
    }
   ],
   "source": [
    "float_columns = air_df.select_dtypes(include=['float64']).columns\n",
    "air_df[float_columns] = air_df[float_columns].applymap(lambda x: f\"{int(x)}\" if x.is_integer() else f\"{x}\")\n",
    "air_df.to_csv('./output_data/air_df_correct_format.csv', sep=';', index=False)"
   ]
  },
  {
   "cell_type": "code",
   "execution_count": 19,
   "id": "e00dc13f-a9b7-4722-aa20-ba446fecec15",
   "metadata": {},
   "outputs": [
    {
     "name": "stderr",
     "output_type": "stream",
     "text": [
      "/var/folders/km/7bwvm63d7391crm7zdzvn4pc0000gn/T/ipykernel_19952/3011539221.py:2: FutureWarning: DataFrame.applymap has been deprecated. Use DataFrame.map instead.\n",
      "  no_nmhc_df[float_columns] = no_nmhc_df[float_columns].applymap(lambda x: f\"{int(x)}\" if x.is_integer() else f\"{x}\")\n"
     ]
    }
   ],
   "source": [
    "float_columns = no_nmhc_df.select_dtypes(include=['float64']).columns\n",
    "no_nmhc_df[float_columns] = no_nmhc_df[float_columns].applymap(lambda x: f\"{int(x)}\" if x.is_integer() else f\"{x}\")\n",
    "no_nmhc_df.to_csv('./output_data/no_nmhc_correct_format.csv', sep=';', index=False)"
   ]
  },
  {
   "cell_type": "markdown",
   "id": "aa847935-cffc-4b5a-8fc6-0f374d1d2431",
   "metadata": {},
   "source": [
    "Few notes : \n",
    "\n",
    "Original dataset file size is 766.7KB, with 2 empty columns.\n",
    "It had 17 columns and 9741 rows.\n",
    "\n",
    "The dataset no_nmhc_correct_format has a file size of 516.3KB. We are going to use this dataset for our analysis.\n",
    "It has 14 columns and 6941 rows. We removed the 2 columns that were left empty in the original dataset and we removed the column NMHC(GT) as it had a large number of rows with -200 value (-> meaning no data was recorded that data).\n",
    "\n",
    "The dataset air_df_correct_format has a file size of 64.9KB. It is much smaller because we didnt remove the column NMHC(GT), so we had to remove a lot of rows. It has 15 columns and 827 rows.\n",
    "\n",
    "Of the original number of rows, 70% are usable and have been saved to output_deleted_column in the case of removing the column NMHC(GT).\n",
    "If we do not remove this column and instead choose to remove the rows where no data was recorded for NMHC(GT), we end up with 8% of the original dataset which didn't seem satisfactory.\n"
   ]
  },
  {
   "cell_type": "code",
   "execution_count": 20,
   "id": "13f9ace8-b7e0-4144-83cd-6532458b6f41",
   "metadata": {},
   "outputs": [
    {
     "name": "stdout",
     "output_type": "stream",
     "text": [
      "<class 'pandas.core.frame.DataFrame'>\n",
      "Index: 6941 entries, 0 to 9356\n",
      "Data columns (total 14 columns):\n",
      " #   Column         Non-Null Count  Dtype \n",
      "---  ------         --------------  ----- \n",
      " 0   Date           6941 non-null   object\n",
      " 1   Time           6941 non-null   object\n",
      " 2   CO(GT)         6941 non-null   object\n",
      " 3   PT08.S1(CO)    6941 non-null   object\n",
      " 4   C6H6(GT)       6941 non-null   object\n",
      " 5   PT08.S2(NMHC)  6941 non-null   object\n",
      " 6   NOx(GT)        6941 non-null   object\n",
      " 7   PT08.S3(NOx)   6941 non-null   object\n",
      " 8   NO2(GT)        6941 non-null   object\n",
      " 9   PT08.S4(NO2)   6941 non-null   object\n",
      " 10  PT08.S5(O3)    6941 non-null   object\n",
      " 11  T              6941 non-null   object\n",
      " 12  RH             6941 non-null   object\n",
      " 13  AH             6941 non-null   object\n",
      "dtypes: object(14)\n",
      "memory usage: 813.4+ KB\n"
     ]
    }
   ],
   "source": [
    "no_nmhc_df.info()"
   ]
  },
  {
   "cell_type": "code",
   "execution_count": 21,
   "id": "36a34bf5-61eb-433e-82fe-cfe7c9d1e49c",
   "metadata": {},
   "outputs": [
    {
     "name": "stdout",
     "output_type": "stream",
     "text": [
      "<class 'pandas.core.frame.DataFrame'>\n",
      "Index: 7470 entries, 0 to 9356\n",
      "Data columns (total 15 columns):\n",
      " #   Column         Non-Null Count  Dtype \n",
      "---  ------         --------------  ----- \n",
      " 0   Date           7470 non-null   object\n",
      " 1   Time           7470 non-null   object\n",
      " 2   CO(GT)         7470 non-null   object\n",
      " 3   PT08.S1(CO)    7470 non-null   object\n",
      " 4   NMHC(GT)       7470 non-null   object\n",
      " 5   C6H6(GT)       7470 non-null   object\n",
      " 6   PT08.S2(NMHC)  7470 non-null   object\n",
      " 7   NOx(GT)        7470 non-null   object\n",
      " 8   PT08.S3(NOx)   7470 non-null   object\n",
      " 9   NO2(GT)        7470 non-null   object\n",
      " 10  PT08.S4(NO2)   7470 non-null   object\n",
      " 11  PT08.S5(O3)    7470 non-null   object\n",
      " 12  T              7470 non-null   object\n",
      " 13  RH             7470 non-null   object\n",
      " 14  AH             7470 non-null   object\n",
      "dtypes: object(15)\n",
      "memory usage: 933.8+ KB\n"
     ]
    }
   ],
   "source": [
    "air_df.info()"
   ]
  }
 ],
 "metadata": {
  "kernelspec": {
   "display_name": "Python 3",
   "language": "python",
   "name": "python3"
  },
  "language_info": {
   "codemirror_mode": {
    "name": "ipython",
    "version": 3
   },
   "file_extension": ".py",
   "mimetype": "text/x-python",
   "name": "python",
   "nbconvert_exporter": "python",
   "pygments_lexer": "ipython3",
   "version": "3.13.0"
  }
 },
 "nbformat": 4,
 "nbformat_minor": 5
}
